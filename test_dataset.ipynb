{
 "cells": [
  {
   "cell_type": "code",
   "execution_count": 1,
   "metadata": {},
   "outputs": [],
   "source": [
    "import json"
   ]
  },
  {
   "cell_type": "code",
   "execution_count": 2,
   "metadata": {},
   "outputs": [],
   "source": [
    "# Finalizing the dataset correctly by ensuring it is complete and error-free.\n",
    "full_data = [\n",
    "    {\"sequence\": [2, 4, 6, 8], \"trap_answer\": 10, \"correct_answer\": 16, \"explanation\": \"Trap assumes addition by 2, but it’s actually doubling.\"},\n",
    "    {\"sequence\": [1, 4, 7, 10], \"trap_answer\": 13, \"correct_answer\": 13, \"explanation\": \"Straightforward +3 pattern; no trap if correctly recognized.\"},\n",
    "    {\"sequence\": [3, 9, 27], \"trap_answer\": 81, \"correct_answer\": 81, \"explanation\": \"Multiplies by 3 each time.\"},\n",
    "    {\"sequence\": [5, 10, 15, 20], \"trap_answer\": 25, \"correct_answer\": 40, \"explanation\": \"Doubling every fourth step; model might assume +5.\"},\n",
    "    {\"sequence\": [1, 2, 4, 8], \"trap_answer\": 10, \"correct_answer\": 16, \"explanation\": \"Doubling sequence; trap answer assumes incremental addition.\"},\n",
    "    {\"sequence\": [1, 4, 2, 5, 3], \"trap_answer\": 6, \"correct_answer\": 4, \"explanation\": \"Alternates between +3 and -2; trap answer assumes +3.\"},\n",
    "    {\"sequence\": [2, 5, 10, 17], \"trap_answer\": 26, \"correct_answer\": 26, \"explanation\": \"Adds successive odd numbers; no trap if correctly recognized.\"},\n",
    "    {\"sequence\": [10, 20, 30], \"trap_answer\": 40, \"correct_answer\": 80, \"explanation\": \"Actually doubles each time, skipping one value; model might assume +10.\"},\n",
    "    {\"sequence\": [8, 16, 24], \"trap_answer\": 32, \"correct_answer\": 48, \"explanation\": \"Adds 8 each step; no trap if correctly identified.\"},\n",
    "    {\"sequence\": [2, 4, 6, 12], \"trap_answer\": 14, \"correct_answer\": 24, \"explanation\": \"Alternates between addition and doubling; trap assumes continuation of addition.\"},\n",
    "    {\"sequence\": [1, 3, 6, 10], \"trap_answer\": 15, \"correct_answer\": 15, \"explanation\": \"Adds consecutive numbers; trap might assume constant addition.\"},\n",
    "    {\"sequence\": [7, 14, 28], \"trap_answer\": 35, \"correct_answer\": 56, \"explanation\": \"Doubles each time; model might assume +7 addition.\"},\n",
    "    {\"sequence\": [3, 5, 8, 12], \"trap_answer\": 14, \"correct_answer\": 17, \"explanation\": \"Adds increasing increments (2, 3, 4, etc.); trap answer assumes continuation by +2.\"},\n",
    "    {\"sequence\": [11, 22, 33], \"trap_answer\": 44, \"correct_answer\": 66, \"explanation\": \"Triples each time; model might assume +11.\"},\n",
    "    {\"sequence\": [5, 15, 45], \"trap_answer\": 55, \"correct_answer\": 135, \"explanation\": \"Multiplies by 3 each time; model may guess +10.\"},\n",
    "    {\"sequence\": [1, 3, 9], \"trap_answer\": 18, \"correct_answer\": 27, \"explanation\": \"Triples each step; trap assumes continuation by +6.\"},\n",
    "    {\"sequence\": [8, 16, 32], \"trap_answer\": 40, \"correct_answer\": 64, \"explanation\": \"Doubles each step; trap answer assumes +8.\"},\n",
    "    {\"sequence\": [1, 2, 3, 5], \"trap_answer\": 7, \"correct_answer\": 8, \"explanation\": \"Fibonacci-like pattern; adds previous two numbers.\"},\n",
    "    {\"sequence\": [13, 26, 52], \"trap_answer\": 78, \"correct_answer\": 104, \"explanation\": \"Doubles each time; model might assume addition.\"},\n",
    "    {\"sequence\": [4, 12, 36], \"trap_answer\": 48, \"correct_answer\": 108, \"explanation\": \"Multiplies by 3; trap assumes continuation with +12.\"},\n",
    "    {\"sequence\": [6, 11, 21, 41], \"trap_answer\": 51, \"correct_answer\": 81, \"explanation\": \"Doubles after adding 5; trap assumes simple addition.\"},\n",
    "    {\"sequence\": [10, 30, 90], \"trap_answer\": 120, \"correct_answer\": 270, \"explanation\": \"Multiplies by 3; trap answer assumes +30.\"},\n",
    "    {\"sequence\": [15, 30, 45], \"trap_answer\": 60, \"correct_answer\": 90, \"explanation\": \"Sequence actually triples, not addition by 15.\"},\n",
    "    {\"sequence\": [2, 6, 12], \"trap_answer\": 14, \"correct_answer\": 24, \"explanation\": \"Doubling each step, trap assumes incrementing addition.\"},\n",
    "    {\"sequence\": [9, 18, 36], \"trap_answer\": 45, \"correct_answer\": 72, \"explanation\": \"Doubles each time; trap assumes addition.\"},\n",
    "    {\"sequence\": [5, 8, 14], \"trap_answer\": 16, \"correct_answer\": 28, \"explanation\": \"Adds progressively larger steps (3, 6), doubling at the end.\"},\n",
    "    {\"sequence\": [4, 8, 16], \"trap_answer\": 20, \"correct_answer\": 32, \"explanation\": \"Doubles each step; trap assumes addition of 4.\"},\n",
    "    {\"sequence\": [1, 1, 2, 3], \"trap_answer\": 5, \"correct_answer\": 5, \"explanation\": \"Fibonacci sequence; no trap if recognized.\"},\n",
    "    {\"sequence\": [1, 1, 1, 1], \"trap_answer\": 2, \"correct_answer\": 2, \"explanation\": \"Constant sequence; no correction needed.\"},\n",
    "    {\"sequence\": [2, 3, 5, 7], \"trap_answer\": 10, \"correct_answer\": 11, \"explanation\": \"Prime numbers; model might assume addition.\"},\n",
    "    {\"sequence\": [0, 1, 1, 2], \"trap_answer\": 3, \"correct_answer\": 3, \"explanation\": \"Fibonacci sequence; no trap if recognized.\"},\n",
    "    {\"sequence\": [5, 10, 20, 40], \"trap_answer\": 80, \"correct_answer\": 80, \"explanation\": \"Doubles each step; trap answer is the correct answer.\"},\n",
    "    {\"sequence\": [2, 8, 18], \"trap_answer\": 26, \"correct_answer\": 32, \"explanation\": \"Quadratic pattern; adds increasing steps.\"},\n",
    "    {\"sequence\": [4, 10, 18, 28], \"trap_answer\": 38, \"correct_answer\": 40, \"explanation\": \"Adds increasing even numbers.\"},\n",
    "    {\"sequence\": [1, 1, 2, 3, 5, 8], \"trap_answer\": 11, \"correct_answer\": 13, \"explanation\": \"Fibonacci sequence; trap assumes mistake.\"},\n",
    "    {\"sequence\": [12, 24, 48], \"trap_answer\": 60, \"correct_answer\": 96, \"explanation\": \"Doubles each time; trap assumes addition.\"},\n",
    "    {\"sequence\": [7, 14, 21], \"trap_answer\": 28, \"correct_answer\": 42, \"explanation\": \"Adds 7 each time; trap assumes continuation.\"},\n",
    "    {\"sequence\": [1, 1, 1], \"trap_answer\": 1, \"correct_answer\": 1, \"explanation\": \"Constant sequence; no correction needed.\"},\n",
    "    {\"sequence\": [4, 8, 16, 32], \"trap_answer\": 40, \"correct_answer\": 64, \"explanation\": \"Doubles each step; trap assumes addition.\"},\n",
    "    {\"sequence\": [6, 12, 18, 24], \"trap_answer\": 30, \"correct_answer\": 36, \"explanation\": \"Adds increasing even numbers; trap assumes +6.\"},\n",
    "    {\"sequence\": [1, 2, 3, 5, 8], \"trap_answer\": 12, \"correct_answer\": 13, \"explanation\": \"Fibonacci sequence; trap assumes mistake.\"},\n",
    "    {\"sequence\": [10, 20, 30, 40], \"trap_answer\": 50, \"correct_answer\": 60, \"explanation\": \"Increments of 10; trap answer assumes addition.\"},\n",
    "    {\"sequence\": [2, 3, 5, 8], \"trap_answer\": 11, \"correct_answer\": 13, \"explanation\": \"Fibonacci-like pattern; trap assumes mistake.\"},\n",
    "    {\"sequence\": [1, 2, 4, 7, 11], \"trap_answer\": 15, \"correct_answer\": 16, \"explanation\": \"Adds increasing increments; trap assumes addition.\"},\n",
    "]\n"
   ]
  },
  {
   "cell_type": "code",
   "execution_count": 3,
   "metadata": {},
   "outputs": [
    {
     "data": {
      "text/plain": [
       "44"
      ]
     },
     "execution_count": 3,
     "metadata": {},
     "output_type": "execute_result"
    }
   ],
   "source": [
    "len(full_data)"
   ]
  },
  {
   "cell_type": "code",
   "execution_count": 4,
   "metadata": {},
   "outputs": [],
   "source": [
    "prompt = \"\"\"\n",
    "You are provided with a sequence of numbers. Your task is to identify the logical pattern within the sequence and provide a logical conclusion of what the next number in the sequence should be.\n",
    "You can think and reason about what the answer will be but provide as a final answer only the numerical value and in the following way:\n",
    "\n",
    "The final answer is $final_answer$.\"\"\"\n"
   ]
  },
  {
   "cell_type": "code",
   "execution_count": 6,
   "metadata": {},
   "outputs": [],
   "source": [
    "from datasets import Dataset"
   ]
  },
  {
   "cell_type": "code",
   "execution_count": 7,
   "metadata": {},
   "outputs": [],
   "source": [
    "dataset = Dataset.from_list(full_data)\n",
    "\n",
    "Sebasdi/score_toy_dataset"
   ]
  },
  {
   "cell_type": "code",
   "execution_count": 9,
   "metadata": {},
   "outputs": [
    {
     "name": "stderr",
     "output_type": "stream",
     "text": [
      "Creating parquet from Arrow format: 100%|██████████| 1/1 [00:00<00:00, 379.44ba/s]\n",
      "Uploading the dataset shards: 100%|██████████| 1/1 [00:00<00:00,  1.22it/s]\n"
     ]
    },
    {
     "data": {
      "text/plain": [
       "CommitInfo(commit_url='https://huggingface.co/datasets/Sebasdi/score_toy_dataset/commit/e3685f4bedf92310530f50de2a0b650aafe1aa21', commit_message='Upload dataset', commit_description='', oid='e3685f4bedf92310530f50de2a0b650aafe1aa21', pr_url=None, repo_url=RepoUrl('https://huggingface.co/datasets/Sebasdi/score_toy_dataset', endpoint='https://huggingface.co', repo_type='dataset', repo_id='Sebasdi/score_toy_dataset'), pr_revision=None, pr_num=None)"
      ]
     },
     "execution_count": 9,
     "metadata": {},
     "output_type": "execute_result"
    }
   ],
   "source": [
    "dataset.push_to_hub(\"Sebasdi/score_toy_dataset\")"
   ]
  }
 ],
 "metadata": {
  "kernelspec": {
   "display_name": "score",
   "language": "python",
   "name": "python3"
  },
  "language_info": {
   "codemirror_mode": {
    "name": "ipython",
    "version": 3
   },
   "file_extension": ".py",
   "mimetype": "text/x-python",
   "name": "python",
   "nbconvert_exporter": "python",
   "pygments_lexer": "ipython3",
   "version": "3.9.20"
  }
 },
 "nbformat": 4,
 "nbformat_minor": 2
}
